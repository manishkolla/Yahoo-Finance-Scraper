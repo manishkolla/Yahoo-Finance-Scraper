{
  "nbformat": 4,
  "nbformat_minor": 0,
  "metadata": {
    "colab": {
      "provenance": [],
      "authorship_tag": "ABX9TyMYE8OYoJyg4IvaSnkWZ1ca",
      "include_colab_link": true
    },
    "kernelspec": {
      "name": "python3",
      "display_name": "Python 3"
    },
    "language_info": {
      "name": "python"
    }
  },
  "cells": [
    {
      "cell_type": "markdown",
      "metadata": {
        "id": "view-in-github",
        "colab_type": "text"
      },
      "source": [
        "<a href=\"https://colab.research.google.com/github/manishkolla/Yahoo-Finance-Scraper/blob/main/Stocks_Data.ipynb\" target=\"_parent\"><img src=\"https://colab.research.google.com/assets/colab-badge.svg\" alt=\"Open In Colab\"/></a>"
      ]
    },
    {
      "cell_type": "code",
      "source": [
        "import yfinance as yahooFinance\n",
        "import pandas as pd\n",
        "from google.colab import drive\n",
        "drive.mount('/content/drive/', force_remount=True)"
      ],
      "metadata": {
        "colab": {
          "base_uri": "https://localhost:8080/"
        },
        "id": "0sx93YKsu3YN",
        "outputId": "d26f6eda-c1f9-4356-86d5-d0458d6ea7c9"
      },
      "execution_count": null,
      "outputs": [
        {
          "output_type": "stream",
          "name": "stdout",
          "text": [
            "Mounted at /content/drive/\n"
          ]
        }
      ]
    },
    {
      "cell_type": "code",
      "execution_count": null,
      "metadata": {
        "id": "BrBlDrn9ur2c"
      },
      "outputs": [],
      "source": [
        "# Here We are getting thecompanies tickets\n",
        "apple_ticket = yahooFinance.Ticker(\"AAPL\")\n",
        "tesla_ticket = yahooFinance.Ticker(\"TSLA\")\n",
        "meta_ticket = yahooFinance.Ticker(\"META\")\n",
        "microsoft_ticket = yahooFinance.Ticker(\"MSFT\")\n",
        "netflix_ticket = yahooFinance.Ticker(\"NFLX\")\n",
        "amazon_ticket = yahooFinance.Ticker(\"AMZN\")\n",
        "google_ticket = yahooFinance.Ticker(\"GOOGL\")\n",
        "ibm_ticket = yahooFinance.Ticker(\"IBM\")\n",
        "adobe_ticket = yahooFinance.Ticker(\"ADBE\")\n",
        "dell_ticket = yahooFinance.Ticker(\"DELL\")\n",
        "uber_ticket = yahooFinance.Ticker(\"UBER\")\n"
      ]
    },
    {
      "cell_type": "code",
      "source": [
        "# whole python dictionary is printed here\n",
        "apple=apple_ticket.history(period=\"5y\")\n",
        "tesla=tesla_ticket.history(period=\"5y\")\n",
        "meta=meta_ticket.history(period=\"5y\")\n",
        "microsoft=microsoft_ticket.history(period=\"5y\")\n",
        "netflix=netflix_ticket.history(period=\"5y\")\n",
        "amazon=amazon_ticket.history(period=\"5y\")\n",
        "google=google_ticket.history(period=\"5y\")\n",
        "ibm=ibm_ticket.history(period=\"5y\")\n",
        "adobe=adobe_ticket.history(period=\"5y\")\n",
        "dell=dell_ticket.history(period=\"5y\")\n",
        "uber=uber_ticket.history(period=\"5y\")"
      ],
      "metadata": {
        "id": "g4gBlYqBu7DB"
      },
      "execution_count": null,
      "outputs": []
    },
    {
      "cell_type": "code",
      "source": [
        "#Disclaimer!\n",
        "#Extracring the data to csv files to Google Drive to the folder Stocks Data (Make sure to create a folder names Stocks Data before running this)\n",
        "apple.to_csv('/content/drive/My Drive/Stocks Data/apple.csv')\n",
        "tesla.to_csv('/content/drive/My Drive/Stocks Data/tesla.csv')\n",
        "meta.to_csv('/content/drive/My Drive/Stocks Data/meta.csv')\n",
        "microsoft.to_csv('/content/drive/My Drive/Stocks Data/microsoft.csv')\n",
        "netflix.to_csv('/content/drive/My Drive/Stocks Data/netflix.csv')\n",
        "amazon.to_csv('/content/drive/My Drive/Stocks Data/amazon.csv')\n",
        "google.to_csv('/content/drive/My Drive/Stocks Data/google.csv')\n",
        "ibm.to_csv('/content/drive/My Drive/Stocks Data/ibm.csv')\n",
        "adobe.to_csv('/content/drive/My Drive/Stocks Data/adobe.csv')\n",
        "dell.to_csv('/content/drive/My Drive/Stocks Data/dell.csv')\n",
        "uber.to_csv('/content/drive/My Drive/Stocks Data/uber.csv')\n"
      ],
      "metadata": {
        "id": "vMsvRkqvu8lP"
      },
      "execution_count": null,
      "outputs": []
    },
    {
      "cell_type": "code",
      "source": [
        "#Extracring the data to csv files to Google Collaboratory Workspace for easier analysis\n",
        "apple.to_csv('apple.csv')\n",
        "tesla.to_csv('tesla.csv')\n",
        "meta.to_csv('meta.csv')\n",
        "microsoft.to_csv('microsoft.csv')\n",
        "netflix.to_csv('netflix.csv')\n",
        "amazon.to_csv('amazon.csv')\n",
        "google.to_csv('google.csv')\n",
        "ibm.to_csv('ibm.csv')\n",
        "adobe.to_csv('adobe.csv')\n",
        "dell.to_csv('dell.csv')\n",
        "uber.to_csv('uber.csv')\n"
      ],
      "metadata": {
        "id": "jx4Qks447VdK"
      },
      "execution_count": null,
      "outputs": []
    },
    {
      "cell_type": "code",
      "source": [
        "apple_info=apple_ticket.get_info('AAPL')"
      ],
      "metadata": {
        "id": "7hLviedLYLNN"
      },
      "execution_count": null,
      "outputs": []
    }
  ]
}